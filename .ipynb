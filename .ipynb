
{
  "cells": [
    {
      "cell_type": "code",
      "execution_count": null,
      "metadata": {},
      "outputs": [],
      "source": [
        "import pandas as pd \n",
        "import numpy as np \n",
        "import matplotlib.pyplot as plt\n",
        "import seaborn as sns\n",
        "import json"
      ]
    },
    {
      "cell_type": "code",
      "execution_count": null,
      "metadata": {},
      "outputs": [],
      "source": [
        "data_file = open(\"yelp_academic_dataset_review.json\")\n",
        "data = []\n",
        "for line in data_file:\n",
        "    l = json.loads(line)\n",
        "    l = {k:l[k] for k in ['user_id', 'date']}\n",
        "    data.append(l)\n",
        "review = pd.DataFrame(data)\n",
        "data_file.close()"
      ]
    },
    {
      "cell_type": "code",
      "execution_count": null,
      "metadata": {},
      "outputs": [],
      "source": [
        "review.info()\n",
        "review.head()"
      ]
    },
    {
      "cell_type": "code",
      "execution_count": null,
      "metadata": {},
      "outputs": [],
      "source": [
        "data_file = open(\"yelp_academic_dataset_tip.json\")\n",
        "tip = pd.read_json(data_file, lines=True)\n",
        "data_file.close()"
      ]
    }
  ],
  "metadata": {
    "kernelspec": {
      "display_name": "Python 3",
      "language": "python",
      "name": "python3"
    },
    "language_info": {
      "name": "python",
      "version": "3.11.3"
    }
  },
  "nbformat": 4,
  "nbformat_minor": 2
}